{
  "nbformat": 4,
  "nbformat_minor": 0,
  "metadata": {
    "colab": {
      "provenance": []
    },
    "kernelspec": {
      "name": "python3",
      "display_name": "Python 3"
    },
    "language_info": {
      "name": "python"
    }
  },
  "cells": [
    {
      "cell_type": "code",
      "execution_count": null,
      "metadata": {
        "colab": {
          "base_uri": "https://localhost:8080/"
        },
        "id": "KRj_m5VE9La0",
        "outputId": "a22e20a3-46ea-466f-988f-024b7c37bf63"
      },
      "outputs": [
        {
          "output_type": "stream",
          "name": "stderr",
          "text": [
            "[nltk_data] Downloading package punkt to /root/nltk_data...\n",
            "[nltk_data]   Package punkt is already up-to-date!\n"
          ]
        },
        {
          "output_type": "execute_result",
          "data": {
            "text/plain": [
              "True"
            ]
          },
          "metadata": {},
          "execution_count": 23
        }
      ],
      "source": [
        "import os\n",
        "import nltk\n",
        "import ssl\n",
        "import streamlit as st\n",
        "import random\n",
        "from sklearn.feature_extraction.text import TfidfVectorizer\n",
        "from sklearn.linear_model import LogisticRegression\n",
        "\n",
        "ssl._create_default_https_context = ssl._create_unverified_context\n",
        "nltk.data.path.append(os.path.abspath(\"nltk_data\"))\n",
        "nltk.download('punkt')\n"
      ]
    },
    {
      "cell_type": "code",
      "source": [
        "intents = [\n",
        "    {\n",
        "        \"tag\": \"greeting\",\n",
        "        \"patterns\": [\"Hi\", \"Hello\", \"Hey\", \"How are you\", \"What's up\"],\n",
        "        \"responses\": [\"Hi there\", \"Hello\", \"Hey\", \"Hi. I'm fine, thank you\", \"Nothing much\"]\n",
        "    },\n",
        "    {\n",
        "        \"tag\": \"goodbye\",\n",
        "        \"patterns\": [\"Bye\", \"See you later\", \"Goodbye\", \"Take care\"],\n",
        "        \"responses\": [\"Goodbye\", \"See you later\", \"Take care\"]\n",
        "    },\n",
        "    {\n",
        "        \"tag\": \"thanks\",\n",
        "        \"patterns\": [\"Thank you\", \"Thanks\", \"Thanks a lot\", \"I appreciate it\"],\n",
        "        \"responses\": [\"You're welcome\", \"No problem\", \"Glad I could help\"]\n",
        "    },\n",
        "    {\n",
        "        \"tag\": \"about\",\n",
        "        \"patterns\": [\"What can you do\", \"Who are you\", \"What are you\", \"What is your purpose\", \"Tell me about the company\"],\n",
        "        \"responses\": [\"I am a chatbot\", \"My purpose is to assist you\", \"I can answer questions and provide assistance\",\"Company was established in 1980s\"]\n",
        "    },\n",
        "    {\n",
        "        \"tag\": \"help\",\n",
        "        \"patterns\": [\"Help\", \"I need help\", \"Can you help me\", \"What should I do\"],\n",
        "        \"responses\": [\"Sure, what do you need help with?\", \"I'm here to help. What's the problem?\", \"How can I assist you?\"]\n",
        "    },\n",
        "    {\n",
        "        \"tag\": \"age\",\n",
        "        \"patterns\": [\"How old are you\", \"What's your age\"],\n",
        "        \"responses\": [\"I don't have an age. I'm a chatbot.\", \"I was just born in the digital world.\", \"Age is just a number for me.\"]\n",
        "    },\n",
        "    {\n",
        "        \"tag\": \"weather\",\n",
        "        \"patterns\": [\"What's the weather like\", \"How's the weather today\"],\n",
        "        \"responses\": [\"I'm sorry, I cannot provide real-time weather information.\", \"You can check the weather on a weather app or website.\"]\n",
        "    },\n",
        "    {\n",
        "        \"tag\": \"budget\",\n",
        "        \"patterns\": [\"How can I make a budget\", \"What's a good budgeting strategy\", \"How do I create a budget\"],\n",
        "        \"responses\": [\"To make a budget, start by tracking your income and expenses. Then, allocate your income towards essential expenses like rent, food, and bills. Next, allocate some of your income towards savings and debt repayment. Finally, allocate the remainder of your income towards discretionary expenses like entertainment and hobbies.\", \"A good budgeting strategy is to use the 50/30/20 rule. This means allocating 50% of your income towards essential expenses, 30% towards discretionary expenses, and 20% towards savings and debt repayment.\", \"To create a budget, start by setting financial goals for yourself. Then, track your income and expenses for a few months to get a sense of where your money is going. Next, create a budget by allocating your income towards essential expenses, savings and debt repayment, and discretionary expenses.\"]\n",
        "    },\n",
        "    {\n",
        "        \"tag\": \"credit_score\",\n",
        "        \"patterns\": [\"What is a credit score\", \"How do I check my credit score\", \"How can I improve my credit score\"],\n",
        "        \"responses\": [\"A credit score is a number that represents your creditworthiness. It is based on your credit history and is used by lenders to determine whether or not to lend you money. The higher your credit score, the more likely you are to be approved for credit.\", \"You can check your credit score for free on several websites such as Credit Karma and Credit Sesame.\"]\n",
        "    },\n",
        "    {\n",
        "        \"tag\": \"customer_care_number\",\n",
        "        \"patterns\": [\"Can you provide me with the customer care number\",\"customer care\",\"customer care number\",\"Customer Care number\"],\n",
        "        \"responses\": [\"Sure! The customer care number is 9999999999\"]\n",
        "    },\n",
        "    {\n",
        "        \"tag\": \"complaint\",\n",
        "        \"patterns\": [\"I'm having trouble\",\"I have a complaint\",\"Complaint\",\"complaint\"],\n",
        "        \"responses\":[\"Try contacting the customer care at 9999999999\",\"Sure please convey.\",\"How may I assist you.\"]\n",
        "    },\n",
        "    {\n",
        "        \"tag\": \"Account\",\n",
        "        \"patterns\": [\"How do I open a bank account?\",\"What documents are required to open a bank account?\",\"Documents required.\"],\n",
        "        \"responses\": [\"You typically need to visit a bank branch with your ID, proof of address, and other documents.\",\"You need ID, proof of address, and a social security number or tax ID.\",\"\"]\n",
        "    },\n",
        "    {\n",
        "        \"tag\":\"Account Type\",\n",
        "        \"patterns\":[\"What types of bank accounts are available?\",\"What is the difference between a checking and savings account?\"],\n",
        "        \"responses\":[\"Checking, savings, money market, CDs, and more.\",\"Checking is for everyday transactions, savings is for saving money and earning interest.\"]\n",
        "    },\n",
        "\n",
        "    {\n",
        "        \"tag\":\"Transaction\",\n",
        "        \"patterns\": [\"How do I deposit money into my bank account?\"],\n",
        "        \"responses\":[\"Visit a bank branch, use an ATM, or transfer money from another account.\"]\n",
        "    },\n",
        "\n",
        "    {\n",
        "        \"tag\":\"Statement\",\n",
        "        \"patterns\": [\"What is a bank statement and how do I access it?\"],\n",
        "        \"responses\":[\"A record of account activity; you can access it online or by requesting a paper copy from your bank.\"]\n",
        "    },\n",
        "\n",
        "    {\n",
        "        \"tag\":\"Transaction\",\n",
        "        \"patterns\": [\"How do I transfer money between bank accounts?\"],\n",
        "        \"responses\":[\"Online banking, visiting a branch, or using a mobile app.\"]\n",
        "    },\n",
        "\n",
        "    {\n",
        "        \"tag\":\"Transaction\",\n",
        "        \"patterns\": [\"How do I set up automatic bill payments?\"],\n",
        "        \"responses\":[\"Provide your bank account information to the company and authorize automatic withdrawals.\"]\n",
        "    },\n",
        "\n",
        "    {\n",
        "        \"tag\":\"Dispute\",\n",
        "        \"patterns\": [\"How do I dispute a charge on my bank account?\"],\n",
        "        \"responses\":[\"Contact your bank and provide details and documentation; they will investigate and may issue a refund.\"]\n",
        "    },\n",
        "\n",
        "    {\n",
        "        \"tag\":\"Loan/Credit Card\",\n",
        "        \"patterns\": [\"How do I apply for a loan or credit card?\"],\n",
        "        \"responses\":[\"Provide personal information and apply online, by phone, or in person at a bank branch.\"]\n",
        "    },\n",
        "\n",
        "    {\n",
        "        \"tag\":\"Transaction\",\n",
        "        \"patterns\": [\"How do I make deposits or withdrawals from my account?\"],\n",
        "        \"responses\":[\"Visit a bank branch, use an ATM, or transfer funds online or through a mobile app.\"]\n",
        "    },\n",
        "\n",
        "    {\n",
        "        \"tag\":\"Security\",\n",
        "        \"patterns\": [\"How do I report a lost or stolen debit card?\"],\n",
        "        \"responses\":[\"Contact customer service immediately to report the card as lost or stolen and to order a replacement.\"]\n",
        "    },\n",
        "\n",
        "    {\n",
        "        \"tag\":\"Security\",\n",
        "        \"patterns\": [\"How do I protect my account from fraud and unauthorized access?\"],\n",
        "        \"responses\":[\"Use strong passwords, enable two-factor authentication, monitor account activity regularly, and report any suspicious activity to customer service immediately.\"]\n",
        "    },\n",
        "\n",
        "    {\n",
        "        \"tag\":\"Loan/Credit Card\",\n",
        "        \"patterns\": [\"How do I make payments on my loan or credit card?\"],\n",
        "        \"responses\":[\"Set up automatic payments or make payments online, by phone, or by mail.\"]\n",
        "    },\n",
        "\n",
        "    {\n",
        "        \"tag\":\"Credit\",\n",
        "        \"patterns\": [\"How do I dispute an error on my credit report?\",\"Credit report\"],\n",
        "        \"responses\":[\"Contact the credit bureau that issued the report and provide documentation to have the error investigated and corrected.\"]\n",
        "    },\n",
        "\n",
        "    {\n",
        "        \"tag\":\"Security\",\n",
        "        \"patterns\": [\"How do I report suspected fraudulent activity on my account?\",\"Security\"],\n",
        "        \"responses\":[\"Contact customer service immediately to report the activity and have it investigated\"]\n",
        "    },\n",
        "\n",
        "    {\n",
        "        \"tag\":\"Account\",\n",
        "        \"patterns\": [\"How do I open a joint bank account with someone else?\",\"Joint account\",\"How to open joint account\"],\n",
        "        \"responses\":[\"Visit a bank branch with the other account holder and bring necessary documentation, such as IDs and proof of address.\"]\n",
        "    },\n",
        "\n",
        "    {\n",
        "        \"tag\":\"Account balance\",\n",
        "        \"patterns\": [\"What's my account balance?\",\"Check account balance\"],\n",
        "        \"responses\":[\"The chatbot can provide the current balance of the customer's account upon request.\"]\n",
        "    },\n",
        "\n",
        "    {\n",
        "        \"tag\":\"Bill payment\",\n",
        "        \"patterns\": [\"Can I pay my bills through the chatbot?\"],\n",
        "        \"responses\":[\"Yes, many banks offer bill payment services through their chatbots.\"]\n",
        "    },\n",
        "\n",
        "    {\n",
        "        \"tag\":\"Credit card\",\n",
        "        \"patterns\": [\"Can I manage my credit card through the chatbot?\"],\n",
        "        \"responses\":[\"Yes, many banks offer credit card management services through their chatbots, such as viewing statements, making payments, and setting up alerts.\"]\n",
        "    },\n",
        "    {\n",
        "        \"tag\":\"Loan applications\",\n",
        "        \"patterns\": [\"Can I apply for a loan through the chatbot?\"],\n",
        "        \"responses\":[\"Some banks may offer loan applications through their chatbots, while others may direct customers to their website or a loan officer.\"]\n",
        "    },\n",
        "\n",
        "    {\n",
        "        \"tag\":\"Branch locations\",\n",
        "        \"patterns\": [\"Where is the nearest bank branch to me?\"],\n",
        "        \"responses\":[\"The chatbot can provide the location and hours of operation of the nearest bank branch to the customer.\"]\n",
        "    },\n",
        "\n",
        "    {\n",
        "        \"tag\":\"Feedback\",\n",
        "        \"patterns\": [\"Can I provide feedback on the chatbot?\"],\n",
        "        \"responses\":[\"Yes, many banks welcome feedback on their chatbots and may provide a survey or feedback form for customers to share their thoughts.\"]\n",
        "    },\n",
        "    {\n",
        "        \"tag\":\"Assistance\",\n",
        "        \"patterns\": [\"Can I speak to a human representative if I need additional assistance?\"],\n",
        "        \"responses\":[\"Yes, many banks offer customer support through a chatbot as well as phone, email, or in-person assistance for more complex issues.\",\"Sure! The customer care number is 9999999999\"]\n",
        "    }\n",
        "]"
      ],
      "metadata": {
        "id": "STUTq5Vh9WKs"
      },
      "execution_count": null,
      "outputs": []
    },
    {
      "cell_type": "code",
      "source": [
        "vectorizer = TfidfVectorizer()\n",
        "clf = LogisticRegression(random_state=0, max_iter=10000)\n",
        "\n",
        "# Preprocess the data\n",
        "tags = []\n",
        "patterns = []\n",
        "for intent in intents:\n",
        "    for pattern in intent['patterns']:\n",
        "        tags.append(intent['tag'])\n",
        "        patterns.append(pattern)\n",
        "\n",
        "# training the model\n",
        "x = vectorizer.fit_transform(patterns)\n",
        "y = tags\n",
        "clf.fit(x, y)"
      ],
      "metadata": {
        "colab": {
          "base_uri": "https://localhost:8080/",
          "height": 74
        },
        "id": "5ZFUh-p09oJF",
        "outputId": "7606be3e-fac0-48c2-c0ee-0479e932a3f3"
      },
      "execution_count": null,
      "outputs": [
        {
          "output_type": "execute_result",
          "data": {
            "text/plain": [
              "LogisticRegression(max_iter=10000, random_state=0)"
            ],
            "text/html": [
              "<style>#sk-container-id-4 {color: black;background-color: white;}#sk-container-id-4 pre{padding: 0;}#sk-container-id-4 div.sk-toggleable {background-color: white;}#sk-container-id-4 label.sk-toggleable__label {cursor: pointer;display: block;width: 100%;margin-bottom: 0;padding: 0.3em;box-sizing: border-box;text-align: center;}#sk-container-id-4 label.sk-toggleable__label-arrow:before {content: \"▸\";float: left;margin-right: 0.25em;color: #696969;}#sk-container-id-4 label.sk-toggleable__label-arrow:hover:before {color: black;}#sk-container-id-4 div.sk-estimator:hover label.sk-toggleable__label-arrow:before {color: black;}#sk-container-id-4 div.sk-toggleable__content {max-height: 0;max-width: 0;overflow: hidden;text-align: left;background-color: #f0f8ff;}#sk-container-id-4 div.sk-toggleable__content pre {margin: 0.2em;color: black;border-radius: 0.25em;background-color: #f0f8ff;}#sk-container-id-4 input.sk-toggleable__control:checked~div.sk-toggleable__content {max-height: 200px;max-width: 100%;overflow: auto;}#sk-container-id-4 input.sk-toggleable__control:checked~label.sk-toggleable__label-arrow:before {content: \"▾\";}#sk-container-id-4 div.sk-estimator input.sk-toggleable__control:checked~label.sk-toggleable__label {background-color: #d4ebff;}#sk-container-id-4 div.sk-label input.sk-toggleable__control:checked~label.sk-toggleable__label {background-color: #d4ebff;}#sk-container-id-4 input.sk-hidden--visually {border: 0;clip: rect(1px 1px 1px 1px);clip: rect(1px, 1px, 1px, 1px);height: 1px;margin: -1px;overflow: hidden;padding: 0;position: absolute;width: 1px;}#sk-container-id-4 div.sk-estimator {font-family: monospace;background-color: #f0f8ff;border: 1px dotted black;border-radius: 0.25em;box-sizing: border-box;margin-bottom: 0.5em;}#sk-container-id-4 div.sk-estimator:hover {background-color: #d4ebff;}#sk-container-id-4 div.sk-parallel-item::after {content: \"\";width: 100%;border-bottom: 1px solid gray;flex-grow: 1;}#sk-container-id-4 div.sk-label:hover label.sk-toggleable__label {background-color: #d4ebff;}#sk-container-id-4 div.sk-serial::before {content: \"\";position: absolute;border-left: 1px solid gray;box-sizing: border-box;top: 0;bottom: 0;left: 50%;z-index: 0;}#sk-container-id-4 div.sk-serial {display: flex;flex-direction: column;align-items: center;background-color: white;padding-right: 0.2em;padding-left: 0.2em;position: relative;}#sk-container-id-4 div.sk-item {position: relative;z-index: 1;}#sk-container-id-4 div.sk-parallel {display: flex;align-items: stretch;justify-content: center;background-color: white;position: relative;}#sk-container-id-4 div.sk-item::before, #sk-container-id-4 div.sk-parallel-item::before {content: \"\";position: absolute;border-left: 1px solid gray;box-sizing: border-box;top: 0;bottom: 0;left: 50%;z-index: -1;}#sk-container-id-4 div.sk-parallel-item {display: flex;flex-direction: column;z-index: 1;position: relative;background-color: white;}#sk-container-id-4 div.sk-parallel-item:first-child::after {align-self: flex-end;width: 50%;}#sk-container-id-4 div.sk-parallel-item:last-child::after {align-self: flex-start;width: 50%;}#sk-container-id-4 div.sk-parallel-item:only-child::after {width: 0;}#sk-container-id-4 div.sk-dashed-wrapped {border: 1px dashed gray;margin: 0 0.4em 0.5em 0.4em;box-sizing: border-box;padding-bottom: 0.4em;background-color: white;}#sk-container-id-4 div.sk-label label {font-family: monospace;font-weight: bold;display: inline-block;line-height: 1.2em;}#sk-container-id-4 div.sk-label-container {text-align: center;}#sk-container-id-4 div.sk-container {/* jupyter's `normalize.less` sets `[hidden] { display: none; }` but bootstrap.min.css set `[hidden] { display: none !important; }` so we also need the `!important` here to be able to override the default hidden behavior on the sphinx rendered scikit-learn.org. See: https://github.com/scikit-learn/scikit-learn/issues/21755 */display: inline-block !important;position: relative;}#sk-container-id-4 div.sk-text-repr-fallback {display: none;}</style><div id=\"sk-container-id-4\" class=\"sk-top-container\"><div class=\"sk-text-repr-fallback\"><pre>LogisticRegression(max_iter=10000, random_state=0)</pre><b>In a Jupyter environment, please rerun this cell to show the HTML representation or trust the notebook. <br />On GitHub, the HTML representation is unable to render, please try loading this page with nbviewer.org.</b></div><div class=\"sk-container\" hidden><div class=\"sk-item\"><div class=\"sk-estimator sk-toggleable\"><input class=\"sk-toggleable__control sk-hidden--visually\" id=\"sk-estimator-id-4\" type=\"checkbox\" checked><label for=\"sk-estimator-id-4\" class=\"sk-toggleable__label sk-toggleable__label-arrow\">LogisticRegression</label><div class=\"sk-toggleable__content\"><pre>LogisticRegression(max_iter=10000, random_state=0)</pre></div></div></div></div></div>"
            ]
          },
          "metadata": {},
          "execution_count": 25
        }
      ]
    },
    {
      "cell_type": "code",
      "source": [
        "def chatbot(input_text):\n",
        "    input_text = vectorizer.transform([input_text])\n",
        "    tag = clf.predict(input_text)[0]\n",
        "    for intent in intents:\n",
        "        if intent['tag'] == tag:\n",
        "            response = random.choice(intent['responses'])\n",
        "            return response"
      ],
      "metadata": {
        "id": "kw2LBiP69rPB"
      },
      "execution_count": null,
      "outputs": []
    },
    {
      "cell_type": "code",
      "source": [
        "counter = 0\n",
        "\n",
        "def main():\n",
        "    global counter\n",
        "    st.title(\"Chatbot\")\n",
        "    st.write(\"Welcome to the chatbot. Please type a message and press Enter to start the conversation.\")\n",
        "\n",
        "    counter += 1\n",
        "    user_input = st.text_input(\"You:\", key=f\"user_input_{counter}\")\n",
        "\n",
        "    if user_input:\n",
        "        response = chatbot(user_input)\n",
        "        st.text_area(\"Chatbot:\", value=response, height=100, max_chars=None, key=f\"chatbot_response_{counter}\")\n",
        "\n",
        "        if response.lower() in ['goodbye', 'bye']:\n",
        "            st.write(\"Thank you for chatting with me. Have a great day!\")\n",
        "            st.stop()\n",
        "\n",
        "if __name__ == '__main__':\n",
        "    main()"
      ],
      "metadata": {
        "id": "SwOip0uC975L"
      },
      "execution_count": null,
      "outputs": []
    }
  ]
}